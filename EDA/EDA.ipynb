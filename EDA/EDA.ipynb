{
 "cells": [
  {
   "cell_type": "code",
   "execution_count": 29,
   "metadata": {},
   "outputs": [],
   "source": [
    "%matplotlib inline\n",
    "import matplotlib.pyplot as plt\n",
    "import pandas as pd\n",
    "from keras.preprocessing.text import text_to_word_sequence\n",
    "import numpy as np\n",
    "from tqdm import tqdm\n",
    "from collections import Counter\n",
    "from pprint import pprint\n",
    "\n",
    "df = pd.read_csv('./utt_spk_text.tsv', sep='\\t')\n",
    "\n",
    "df.columns = ['id1', 'id2', 'transcript']"
   ]
  },
  {
   "cell_type": "code",
   "execution_count": 30,
   "metadata": {},
   "outputs": [
    {
     "data": {
      "text/html": [
       "<div>\n",
       "<style scoped>\n",
       "    .dataframe tbody tr th:only-of-type {\n",
       "        vertical-align: middle;\n",
       "    }\n",
       "\n",
       "    .dataframe tbody tr th {\n",
       "        vertical-align: top;\n",
       "    }\n",
       "\n",
       "    .dataframe thead th {\n",
       "        text-align: right;\n",
       "    }\n",
       "</style>\n",
       "<table border=\"1\" class=\"dataframe\">\n",
       "  <thead>\n",
       "    <tr style=\"text-align: right;\">\n",
       "      <th></th>\n",
       "      <th>id1</th>\n",
       "      <th>id2</th>\n",
       "      <th>transcript</th>\n",
       "    </tr>\n",
       "  </thead>\n",
       "  <tbody>\n",
       "    <tr>\n",
       "      <th>0</th>\n",
       "      <td>000039928e</td>\n",
       "      <td>976b1</td>\n",
       "      <td>এ ধরণের কার্ড নিয়ে</td>\n",
       "    </tr>\n",
       "    <tr>\n",
       "      <th>1</th>\n",
       "      <td>00005debc7</td>\n",
       "      <td>f83df</td>\n",
       "      <td>হতে উপার্জিত অর্থ</td>\n",
       "    </tr>\n",
       "    <tr>\n",
       "      <th>2</th>\n",
       "      <td>00009e687c</td>\n",
       "      <td>9813c</td>\n",
       "      <td>হাসির বিষয় হয়েই আছে</td>\n",
       "    </tr>\n",
       "    <tr>\n",
       "      <th>3</th>\n",
       "      <td>00012843bc</td>\n",
       "      <td>7ec1c</td>\n",
       "      <td>সার্ক দেশগুলোতে</td>\n",
       "    </tr>\n",
       "    <tr>\n",
       "      <th>4</th>\n",
       "      <td>00012880b1</td>\n",
       "      <td>e43d4</td>\n",
       "      <td>সহজেই যাওয়া যায়</td>\n",
       "    </tr>\n",
       "  </tbody>\n",
       "</table>\n",
       "</div>"
      ],
      "text/plain": [
       "          id1    id2             transcript\n",
       "0  000039928e  976b1    এ ধরণের কার্ড নিয়ে\n",
       "1  00005debc7  f83df      হতে উপার্জিত অর্থ\n",
       "2  00009e687c  9813c  হাসির বিষয় হয়েই আছে\n",
       "3  00012843bc  7ec1c        সার্ক দেশগুলোতে\n",
       "4  00012880b1  e43d4      সহজেই যাওয়া যায়"
      ]
     },
     "execution_count": 30,
     "metadata": {},
     "output_type": "execute_result"
    }
   ],
   "source": [
    "df.head()"
   ]
  },
  {
   "cell_type": "code",
   "execution_count": 31,
   "metadata": {},
   "outputs": [
    {
     "name": "stderr",
     "output_type": "stream",
     "text": [
      "100%|██████████| 127564/127564 [00:01<00:00, 113768.04it/s]\n"
     ]
    }
   ],
   "source": [
    "# Breaking a sentence into list of words then storing it\n",
    "tokenized = [ text_to_word_sequence(sentence) for sentence in tqdm(df['transcript']) ]"
   ]
  },
  {
   "cell_type": "code",
   "execution_count": 32,
   "metadata": {},
   "outputs": [],
   "source": [
    "# Squishing the 2d list into 1d\n",
    "all_tokens = np.hstack(tokenized).tolist()"
   ]
  },
  {
   "cell_type": "code",
   "execution_count": 40,
   "metadata": {},
   "outputs": [],
   "source": [
    "# Token Counter\n",
    "token_counter = Counter(all_tokens)"
   ]
  },
  {
   "cell_type": "code",
   "execution_count": 41,
   "metadata": {},
   "outputs": [],
   "source": [
    "# Unique Tokens Found in the dataset\n",
    "unique_tokens = list(token_counter.keys())"
   ]
  },
  {
   "cell_type": "code",
   "execution_count": 42,
   "metadata": {},
   "outputs": [
    {
     "name": "stdout",
     "output_type": "stream",
     "text": [
      "['এ', 'ধরণের', 'কার্ড', 'নিয়ে', 'হতে', 'উপার্জিত', 'অর্থ', 'হাসির', 'বিষয়', 'হয়েই']\n"
     ]
    }
   ],
   "source": [
    "print(unique_tokens[:10])"
   ]
  },
  {
   "cell_type": "code",
   "execution_count": 43,
   "metadata": {},
   "outputs": [],
   "source": [
    "# Vocabulary size\n",
    "vocabulary_size = len(unique_tokens)"
   ]
  },
  {
   "cell_type": "code",
   "execution_count": 44,
   "metadata": {},
   "outputs": [
    {
     "name": "stdout",
     "output_type": "stream",
     "text": [
      "142002\n"
     ]
    }
   ],
   "source": [
    "print(vocabulary_size)"
   ]
  },
  {
   "cell_type": "markdown",
   "metadata": {},
   "source": [
    "# Most N common tokens"
   ]
  },
  {
   "cell_type": "code",
   "execution_count": 45,
   "metadata": {},
   "outputs": [
    {
     "data": {
      "text/plain": [
       "[('করে', 5800),\n",
       " ('না', 5799),\n",
       " ('থেকে', 4917),\n",
       " ('এই', 4440),\n",
       " ('হয়', 4006),\n",
       " ('ও', 3971),\n",
       " ('তার', 3083),\n",
       " ('করা', 3062),\n",
       " ('এ', 3048),\n",
       " ('একটি', 3013),\n",
       " ('তিনি', 2915),\n",
       " ('জন্য', 2580),\n",
       " ('নিয়ে', 2496),\n",
       " ('হয়েছে', 2437),\n",
       " ('হবে', 2287),\n",
       " ('এক', 2282),\n",
       " ('এবং', 2142),\n",
       " ('সঙ্গে', 2092),\n",
       " ('তাদের', 2083),\n",
       " ('করেন', 2002),\n",
       " ('হয়ে', 1963),\n",
       " ('যে', 1947),\n",
       " ('ছিল', 1940),\n",
       " ('পর', 1898),\n",
       " ('আর', 1878),\n",
       " ('করতে', 1870),\n",
       " ('কথা', 1808),\n",
       " ('মধ্যে', 1773),\n",
       " ('তারা', 1736),\n",
       " ('আমি', 1658),\n",
       " ('বলে', 1637),\n",
       " ('যায়', 1622),\n",
       " ('আমার', 1567),\n",
       " ('আছে', 1424),\n",
       " ('সে', 1424),\n",
       " ('এর', 1420),\n",
       " ('সময়', 1390),\n",
       " ('দিয়ে', 1383),\n",
       " ('কিছু', 1293),\n",
       " ('কোনো', 1287),\n",
       " ('সেই', 1285),\n",
       " ('অনেক', 1245),\n",
       " ('হচ্ছে', 1241),\n",
       " ('কিন্তু', 1238),\n",
       " ('কি', 1233),\n",
       " ('শুরু', 1213),\n",
       " ('করার', 1199),\n",
       " ('প্রথম', 1167),\n",
       " ('তবে', 1165),\n",
       " ('আমাদের', 1123),\n",
       " ('কোন', 1121),\n",
       " ('বিভিন্ন', 1102),\n",
       " ('রয়েছে', 1102),\n",
       " ('তাঁর', 1093),\n",
       " ('নেই', 1092),\n",
       " ('বা', 1070),\n",
       " ('এখন', 1058),\n",
       " ('বলেন', 1048),\n",
       " ('একটা', 1045),\n",
       " ('মনে', 1042),\n",
       " ('সব', 1033),\n",
       " ('কাজ', 1013),\n",
       " ('নয়', 1005),\n",
       " ('আগে', 1003),\n",
       " ('আমরা', 999),\n",
       " ('পুলিশ', 993),\n",
       " ('তা', 981),\n",
       " ('করেছে', 975),\n",
       " ('বড়', 968),\n",
       " ('বেশি', 967),\n",
       " ('একজন', 962),\n",
       " ('পারে', 956),\n",
       " ('হিসেবে', 952),\n",
       " ('ছিলেন', 940),\n",
       " ('বছর', 938),\n",
       " ('কাছে', 937),\n",
       " ('সালে', 934),\n",
       " ('করেছেন', 909),\n",
       " ('মতো', 893),\n",
       " ('দিকে', 889),\n",
       " ('নতুন', 868),\n",
       " ('বাংলাদেশের', 862),\n",
       " ('হাজার', 856),\n",
       " ('তাকে', 836),\n",
       " ('প্রায়', 823),\n",
       " ('বাংলাদেশ', 818),\n",
       " ('দিন', 812),\n",
       " ('দুই', 812),\n",
       " ('দেশের', 804),\n",
       " ('শেষ', 800),\n",
       " ('দেখা', 793),\n",
       " ('হতে', 768),\n",
       " ('পর্যন্ত', 760),\n",
       " ('জানান', 755),\n",
       " ('গত', 750),\n",
       " ('সাথে', 734),\n",
       " ('মানুষ', 732),\n",
       " ('ওই', 722),\n",
       " ('জন', 695),\n",
       " ('থাকে', 695)]"
      ]
     },
     "execution_count": 45,
     "metadata": {},
     "output_type": "execute_result"
    }
   ],
   "source": [
    "token_counter.most_common(100)"
   ]
  },
  {
   "cell_type": "markdown",
   "metadata": {},
   "source": [
    "# Least N Tokens"
   ]
  },
  {
   "cell_type": "code",
   "execution_count": 46,
   "metadata": {},
   "outputs": [],
   "source": [
    "tokens_with_counts = list(sorted([ (token, count) for token, count in zip(token_counter.keys(), token_counter.values()) ], key=lambda x: x[1]))"
   ]
  },
  {
   "cell_type": "code",
   "execution_count": 47,
   "metadata": {},
   "outputs": [
    {
     "name": "stdout",
     "output_type": "stream",
     "text": [
      "[('অন্তর্ভুক্তও', 1),\n",
      " ('মার্কিনি', 1),\n",
      " ('বাবুর্চি', 1),\n",
      " ('লকার্নো', 1),\n",
      " ('‘এককাট্টা', 1),\n",
      " ('শ্রেণী’', 1),\n",
      " ('আসানকারীদের', 1),\n",
      " ('প্রচারপত্রে', 1),\n",
      " ('বিনোদনপত্রিকায়', 1),\n",
      " ('আরামদায়ক', 1),\n",
      " ('ভবানীপুর', 1),\n",
      " ('খোয়াইলাম', 1),\n",
      " ('কাব্যকারের', 1),\n",
      " ('ইউনিয়নকারী', 1),\n",
      " ('কবিওয়ালের', 1),\n",
      " ('সারবত্তা', 1),\n",
      " ('ধপধপাইয়া', 1),\n",
      " ('হাঁটাটি', 1),\n",
      " ('দেমোফোনের', 1),\n",
      " ('আন্ন্যালাচা', 1),\n",
      " ('সেপাইরা', 1),\n",
      " ('স্বচ্ছতার', 1),\n",
      " ('৪৫মিনিটে', 1),\n",
      " ('খোঁপায়', 1),\n",
      " ('মহাসঙ্কট', 1),\n",
      " ('আলকাউসার', 1),\n",
      " ('সমাঝোতার', 1),\n",
      " ('ছটু', 1),\n",
      " ('ম্যাথিউসের', 1),\n",
      " ('পারবেন।', 1),\n",
      " ('মেমোরি', 1),\n",
      " ('সরকারপ্রধান', 1),\n",
      " ('সঞ্চয়', 1),\n",
      " ('জগতকে', 1),\n",
      " ('খুড়তুতো', 1),\n",
      " ('ঝরনার', 1),\n",
      " ('বাধ্যই', 1),\n",
      " ('মম’র', 1),\n",
      " ('বলিভিয়া', 1),\n",
      " ('চেয়েছেন।', 1),\n",
      " ('ঠাহর', 1),\n",
      " ('জিরাবাটা', 1),\n",
      " ('দিয়েনাড়ুন', 1),\n",
      " ('আর্কাইভিস্ট', 1),\n",
      " ('আর্লউইন', 1),\n",
      " ('মূঢ়', 1),\n",
      " ('কর্ণকুহর', 1),\n",
      " ('সিদ্ধান্তগুলো', 1),\n",
      " ('দৃষ্টিভঙ্গি’তে', 1),\n",
      " ('ক্ষুধা', 1),\n",
      " ('খোঁপা', 1),\n",
      " ('মর্জিশাসিত', 1),\n",
      " ('গোলমুখে', 1),\n",
      " ('১৩২', 1),\n",
      " ('গুলগুলিয়া', 1),\n",
      " ('ভলিতে', 1),\n",
      " ('‘মোশি’।', 1),\n",
      " ('উতপাদন', 1),\n",
      " ('টেট্রাঅ্যামিন', 1),\n",
      " ('ধর্মবর্ণের', 1),\n",
      " ('আমেরিকানই', 1),\n",
      " ('হিস্পানিক', 1),\n",
      " ('কমিউনিটির', 1),\n",
      " ('নরোডোম', 1),\n",
      " ('শিয়ামনি', 1),\n",
      " ('মেলান', 1),\n",
      " ('সূর্যোদয়', 1),\n",
      " ('রতিক্রিয়ার', 1),\n",
      " ('চতুর্মাত্রিক', 1),\n",
      " ('লাম্বের', 1),\n",
      " ('ভ্রম', 1),\n",
      " ('একবছরে', 1),\n",
      " ('নারীদেরকে', 1),\n",
      " ('স্বাস্থ্যও', 1),\n",
      " ('কালাসোনা', 1),\n",
      " ('কৃষিকাজই', 1),\n",
      " ('শুষে', 1),\n",
      " ('তত্ত্বাবধানের', 1),\n",
      " ('চুড়িগুলি', 1),\n",
      " ('ধানক্ষেতে', 1),\n",
      " ('দাবি।', 1),\n",
      " ('ইকুউপমেন্ট', 1),\n",
      " ('এ্যাটাক', 1),\n",
      " ('ইতিহাসবিদেরা', 1),\n",
      " ('অধিবাসীদেরই', 1),\n",
      " ('হাঁড়ি', 1),\n",
      " ('সহযোগিতাপূর্ণ', 1),\n",
      " ('ভরাডুবিতে', 1),\n",
      " ('সুরঙ্গ', 1),\n",
      " ('লাকমালের', 1),\n",
      " ('পুষ্ট', 1),\n",
      " ('সংখ্যাক', 1),\n",
      " ('স্ট্র্যাপের', 1),\n",
      " ('মালিনী', 1),\n",
      " ('গুইলেরমো', 1),\n",
      " ('কালোটাকার', 1),\n",
      " ('উপবিষ্ট', 1),\n",
      " ('পলকের', 1),\n",
      " (\"বেঈমান'\", 1),\n",
      " ('তয়ের', 1)]\n"
     ]
    }
   ],
   "source": [
    "pprint(tokens_with_counts[:100])"
   ]
  },
  {
   "cell_type": "code",
   "execution_count": null,
   "metadata": {},
   "outputs": [],
   "source": []
  }
 ],
 "metadata": {
  "kernelspec": {
   "display_name": "Python 3",
   "language": "python",
   "name": "python3"
  },
  "language_info": {
   "codemirror_mode": {
    "name": "ipython",
    "version": 3
   },
   "file_extension": ".py",
   "mimetype": "text/x-python",
   "name": "python",
   "nbconvert_exporter": "python",
   "pygments_lexer": "ipython3",
   "version": "3.6.5"
  }
 },
 "nbformat": 4,
 "nbformat_minor": 2
}
