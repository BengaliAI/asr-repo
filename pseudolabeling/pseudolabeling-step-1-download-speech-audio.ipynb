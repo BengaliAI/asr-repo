{
 "cells": [
  {
   "cell_type": "code",
   "execution_count": 1,
   "id": "1fd75ec0",
   "metadata": {
    "_cell_guid": "b1076dfc-b9ad-4769-8c92-a6c4dae69d19",
    "_uuid": "8f2839f25d086af736a60e9eeb907d3b93b6e0e5",
    "execution": {
     "iopub.execute_input": "2024-04-06T00:56:44.915611Z",
     "iopub.status.busy": "2024-04-06T00:56:44.915204Z",
     "iopub.status.idle": "2024-04-06T00:57:05.426058Z",
     "shell.execute_reply": "2024-04-06T00:57:05.424207Z"
    },
    "papermill": {
     "duration": 20.520973,
     "end_time": "2024-04-06T00:57:05.429319",
     "exception": false,
     "start_time": "2024-04-06T00:56:44.908346",
     "status": "completed"
    },
    "tags": []
   },
   "outputs": [
    {
     "name": "stdout",
     "output_type": "stream",
     "text": [
      "Collecting yt-dlp[default]\r\n",
      "  Downloading yt_dlp-2024.4.4.232729.dev0-py3-none-any.whl.metadata (166 kB)\r\n",
      "\u001b[2K     \u001b[90m━━━━━━━━━━━━━━━━━━━━━━━━━━━━━━━━━━━━━━━\u001b[0m \u001b[32m166.1/166.1 kB\u001b[0m \u001b[31m5.1 MB/s\u001b[0m eta \u001b[36m0:00:00\u001b[0m\r\n",
      "\u001b[?25hRequirement already satisfied: brotli in /opt/conda/lib/python3.10/site-packages (from yt-dlp[default]) (1.1.0)\r\n",
      "Requirement already satisfied: certifi in /opt/conda/lib/python3.10/site-packages (from yt-dlp[default]) (2024.2.2)\r\n",
      "Collecting mutagen (from yt-dlp[default])\r\n",
      "  Downloading mutagen-1.47.0-py3-none-any.whl.metadata (1.7 kB)\r\n",
      "Collecting pycryptodomex (from yt-dlp[default])\r\n",
      "  Downloading pycryptodomex-3.20.0-cp35-abi3-manylinux_2_17_x86_64.manylinux2014_x86_64.whl.metadata (3.4 kB)\r\n",
      "Requirement already satisfied: requests<3,>=2.31.0 in /opt/conda/lib/python3.10/site-packages (from yt-dlp[default]) (2.31.0)\r\n",
      "Requirement already satisfied: urllib3<3,>=1.26.17 in /opt/conda/lib/python3.10/site-packages (from yt-dlp[default]) (1.26.18)\r\n",
      "Requirement already satisfied: websockets>=12.0 in /opt/conda/lib/python3.10/site-packages (from yt-dlp[default]) (12.0)\r\n",
      "Requirement already satisfied: charset-normalizer<4,>=2 in /opt/conda/lib/python3.10/site-packages (from requests<3,>=2.31.0->yt-dlp[default]) (3.3.2)\r\n",
      "Requirement already satisfied: idna<4,>=2.5 in /opt/conda/lib/python3.10/site-packages (from requests<3,>=2.31.0->yt-dlp[default]) (3.6)\r\n",
      "Downloading mutagen-1.47.0-py3-none-any.whl (194 kB)\r\n",
      "\u001b[2K   \u001b[90m━━━━━━━━━━━━━━━━━━━━━━━━━━━━━━━━━━━━━━━━\u001b[0m \u001b[32m194.4/194.4 kB\u001b[0m \u001b[31m9.2 MB/s\u001b[0m eta \u001b[36m0:00:00\u001b[0m\r\n",
      "\u001b[?25hDownloading pycryptodomex-3.20.0-cp35-abi3-manylinux_2_17_x86_64.manylinux2014_x86_64.whl (2.1 MB)\r\n",
      "\u001b[2K   \u001b[90m━━━━━━━━━━━━━━━━━━━━━━━━━━━━━━━━━━━━━━━━\u001b[0m \u001b[32m2.1/2.1 MB\u001b[0m \u001b[31m45.5 MB/s\u001b[0m eta \u001b[36m0:00:00\u001b[0m\r\n",
      "\u001b[?25hDownloading yt_dlp-2024.4.4.232729.dev0-py3-none-any.whl (3.1 MB)\r\n",
      "\u001b[2K   \u001b[90m━━━━━━━━━━━━━━━━━━━━━━━━━━━━━━━━━━━━━━━━\u001b[0m \u001b[32m3.1/3.1 MB\u001b[0m \u001b[31m59.4 MB/s\u001b[0m eta \u001b[36m0:00:00\u001b[0m\r\n",
      "\u001b[?25hInstalling collected packages: pycryptodomex, mutagen, yt-dlp\r\n",
      "Successfully installed mutagen-1.47.0 pycryptodomex-3.20.0 yt-dlp-2024.4.4.232729.dev0\r\n"
     ]
    }
   ],
   "source": [
    "!python3 -m pip install -U --pre yt-dlp[default]\n",
    "\n",
    "from matplotlib import pyplot as plt\n",
    "import numpy as np\n",
    "from IPython.display import Audio"
   ]
  },
  {
   "cell_type": "code",
   "execution_count": 2,
   "id": "31abbce5",
   "metadata": {
    "execution": {
     "iopub.execute_input": "2024-04-06T00:57:05.442319Z",
     "iopub.status.busy": "2024-04-06T00:57:05.441855Z",
     "iopub.status.idle": "2024-04-06T00:57:06.630352Z",
     "shell.execute_reply": "2024-04-06T00:57:06.629482Z"
    },
    "papermill": {
     "duration": 1.198825,
     "end_time": "2024-04-06T00:57:06.633751",
     "exception": false,
     "start_time": "2024-04-06T00:57:05.434926",
     "status": "completed"
    },
    "tags": []
   },
   "outputs": [],
   "source": [
    "from glob import glob\n",
    "from shutil import copy\n",
    "import os\n",
    "import pandas as pd"
   ]
  },
  {
   "cell_type": "code",
   "execution_count": 3,
   "id": "aacde88f",
   "metadata": {
    "execution": {
     "iopub.execute_input": "2024-04-06T00:57:06.651363Z",
     "iopub.status.busy": "2024-04-06T00:57:06.649827Z",
     "iopub.status.idle": "2024-04-06T00:57:49.236908Z",
     "shell.execute_reply": "2024-04-06T00:57:49.235492Z"
    },
    "papermill": {
     "duration": 42.599014,
     "end_time": "2024-04-06T00:57:49.240080",
     "exception": false,
     "start_time": "2024-04-06T00:57:06.641066",
     "status": "completed"
    },
    "tags": []
   },
   "outputs": [
    {
     "name": "stdout",
     "output_type": "stream",
     "text": [
      "[youtube:tab] Extracting URL: https://www.youtube.com/@PrioSylhet/videos\r\n",
      "[youtube:tab] @PrioSylhet/videos: Downloading webpage\r\n",
      "[download] Downloading playlist: Prio Sylhet - Videos\r\n",
      "[youtube:tab] Playlist Prio Sylhet - Videos: Downloading 2 items\r\n",
      "[download] Downloading item \u001b[0;32m1\u001b[0m of \u001b[0;94m2\u001b[0m\r\n",
      "[youtube] Extracting URL: https://www.youtube.com/watch?v=hQLRYl_kZwA\r\n",
      "[youtube] hQLRYl_kZwA: Downloading webpage\r\n",
      "[youtube] hQLRYl_kZwA: Downloading ios player API JSON\r\n",
      "[youtube] hQLRYl_kZwA: Downloading android player API JSON\r\n",
      "[youtube] hQLRYl_kZwA: Downloading m3u8 information\r\n",
      "[info] hQLRYl_kZwA: Downloading 1 format(s): 251\r\n",
      "[download] Destination: SYLHETI NATOK ｜ ধোকাবাজ ফকির ｜ TERA MIAH NEW NATOK 2024 ｜ তেরা মিয়ার নতুন ২০২৪ [hQLRYl_kZwA].webm\r\n",
      "\r\n",
      "[ExtractAudio] Destination: SYLHETI NATOK ｜ ধোকাবাজ ফকির ｜ TERA MIAH NEW NATOK 2024 ｜ তেরা মিয়ার নতুন ২০২৪ [hQLRYl_kZwA].wav\r\n",
      "Deleting original file SYLHETI NATOK ｜ ধোকাবাজ ফকির ｜ TERA MIAH NEW NATOK 2024 ｜ তেরা মিয়ার নতুন ২০২৪ [hQLRYl_kZwA].webm (pass -k to keep)\r\n",
      "[download] Downloading item \u001b[0;32m2\u001b[0m of \u001b[0;94m2\u001b[0m\r\n",
      "[youtube] Extracting URL: https://www.youtube.com/watch?v=NGE4SE8ZBmA\r\n",
      "[youtube] NGE4SE8ZBmA: Downloading webpage\r\n",
      "[youtube] NGE4SE8ZBmA: Downloading ios player API JSON\r\n",
      "[youtube] NGE4SE8ZBmA: Downloading android player API JSON\r\n",
      "[youtube] NGE4SE8ZBmA: Downloading m3u8 information\r\n",
      "[info] NGE4SE8ZBmA: Downloading 1 format(s): 251\r\n",
      "[download] Destination: SYLHETI NATOK ｜ লিল্লাহ কাপড় ｜ TERA MIAH NEW NATOK 2024 ｜ তেরা মিয়ার নতুন ২০২৪ [NGE4SE8ZBmA].webm\r\n",
      "\r\n",
      "[ExtractAudio] Destination: SYLHETI NATOK ｜ লিল্লাহ কাপড় ｜ TERA MIAH NEW NATOK 2024 ｜ তেরা মিয়ার নতুন ২০২৪ [NGE4SE8ZBmA].wav\r\n",
      "Deleting original file SYLHETI NATOK ｜ লিল্লাহ কাপড় ｜ TERA MIAH NEW NATOK 2024 ｜ তেরা মিয়ার নতুন ২০২৪ [NGE4SE8ZBmA].webm (pass -k to keep)\r\n",
      "[download] Finished downloading playlist: Prio Sylhet - Videos\r\n"
     ]
    }
   ],
   "source": [
    "!yt-dlp -x --audio-format wav https://www.youtube.com/@PrioSylhet/videos --playlist-end 2 # downloading 2 files from the channel"
   ]
  },
  {
   "cell_type": "code",
   "execution_count": 4,
   "id": "827987ba",
   "metadata": {
    "execution": {
     "iopub.execute_input": "2024-04-06T00:57:49.267289Z",
     "iopub.status.busy": "2024-04-06T00:57:49.266859Z",
     "iopub.status.idle": "2024-04-06T00:57:49.274617Z",
     "shell.execute_reply": "2024-04-06T00:57:49.273147Z"
    },
    "papermill": {
     "duration": 0.024437,
     "end_time": "2024-04-06T00:57:49.277081",
     "exception": false,
     "start_time": "2024-04-06T00:57:49.252644",
     "status": "completed"
    },
    "tags": []
   },
   "outputs": [
    {
     "name": "stdout",
     "output_type": "stream",
     "text": [
      "2\n"
     ]
    }
   ],
   "source": [
    "paths = glob('/kaggle/working/*.wav')\n",
    "print(len(paths))"
   ]
  },
  {
   "cell_type": "code",
   "execution_count": 5,
   "id": "752d4db0",
   "metadata": {
    "execution": {
     "iopub.execute_input": "2024-04-06T00:57:49.304172Z",
     "iopub.status.busy": "2024-04-06T00:57:49.303756Z",
     "iopub.status.idle": "2024-04-06T00:57:49.309385Z",
     "shell.execute_reply": "2024-04-06T00:57:49.307985Z"
    },
    "papermill": {
     "duration": 0.022393,
     "end_time": "2024-04-06T00:57:49.311813",
     "exception": false,
     "start_time": "2024-04-06T00:57:49.289420",
     "status": "completed"
    },
    "tags": []
   },
   "outputs": [],
   "source": [
    "os.makedirs('renamed_files', exist_ok = True)"
   ]
  },
  {
   "cell_type": "code",
   "execution_count": 6,
   "id": "3cdd6928",
   "metadata": {
    "execution": {
     "iopub.execute_input": "2024-04-06T00:57:49.338735Z",
     "iopub.status.busy": "2024-04-06T00:57:49.338261Z",
     "iopub.status.idle": "2024-04-06T00:57:50.507214Z",
     "shell.execute_reply": "2024-04-06T00:57:50.506087Z"
    },
    "papermill": {
     "duration": 1.186121,
     "end_time": "2024-04-06T00:57:50.510261",
     "exception": false,
     "start_time": "2024-04-06T00:57:49.324140",
     "status": "completed"
    },
    "tags": []
   },
   "outputs": [],
   "source": [
    "old_names = []\n",
    "new_names = []\n",
    "for i_p, p in enumerate(paths):\n",
    "    src = p\n",
    "    filename = os.path.basename(src)\n",
    "    filename_new = '{:06d}.wav'.format(i_p)\n",
    "    dst = os.path.join('/kaggle/working/', 'renamed_files', filename_new)\n",
    "    \n",
    "    old_names.append(filename)\n",
    "    new_names.append(filename_new)\n",
    "    \n",
    "    copy(src,dst)\n",
    "    \n",
    "df_mapper = pd.DataFrame({\n",
    "    'old_name': old_names,\n",
    "    'new_name': new_names\n",
    "})\n",
    "df_mapper.to_csv('filename_metadata.csv', index = False)"
   ]
  },
  {
   "cell_type": "code",
   "execution_count": 7,
   "id": "3aece78a",
   "metadata": {
    "execution": {
     "iopub.execute_input": "2024-04-06T00:57:50.537802Z",
     "iopub.status.busy": "2024-04-06T00:57:50.537363Z",
     "iopub.status.idle": "2024-04-06T00:57:51.852946Z",
     "shell.execute_reply": "2024-04-06T00:57:51.851489Z"
    },
    "papermill": {
     "duration": 1.332732,
     "end_time": "2024-04-06T00:57:51.856002",
     "exception": false,
     "start_time": "2024-04-06T00:57:50.523270",
     "status": "completed"
    },
    "tags": []
   },
   "outputs": [],
   "source": [
    "!rm /kaggle/working/*.wav"
   ]
  },
  {
   "cell_type": "code",
   "execution_count": 8,
   "id": "75682281",
   "metadata": {
    "execution": {
     "iopub.execute_input": "2024-04-06T00:57:51.884496Z",
     "iopub.status.busy": "2024-04-06T00:57:51.883582Z",
     "iopub.status.idle": "2024-04-06T00:57:51.891655Z",
     "shell.execute_reply": "2024-04-06T00:57:51.890088Z"
    },
    "papermill": {
     "duration": 0.025768,
     "end_time": "2024-04-06T00:57:51.894360",
     "exception": false,
     "start_time": "2024-04-06T00:57:51.868592",
     "status": "completed"
    },
    "tags": []
   },
   "outputs": [
    {
     "name": "stdout",
     "output_type": "stream",
     "text": [
      "2\n"
     ]
    }
   ],
   "source": [
    "paths = glob('/kaggle/working/*/*.wav')\n",
    "print(len(paths))"
   ]
  }
 ],
 "metadata": {
  "kaggle": {
   "accelerator": "none",
   "dataSources": [
    {
     "databundleVersionId": 8149390,
     "sourceId": 73047,
     "sourceType": "competition"
    }
   ],
   "dockerImageVersionId": 30673,
   "isGpuEnabled": false,
   "isInternetEnabled": true,
   "language": "python",
   "sourceType": "notebook"
  },
  "kernelspec": {
   "display_name": "Python 3",
   "language": "python",
   "name": "python3"
  },
  "language_info": {
   "codemirror_mode": {
    "name": "ipython",
    "version": 3
   },
   "file_extension": ".py",
   "mimetype": "text/x-python",
   "name": "python",
   "nbconvert_exporter": "python",
   "pygments_lexer": "ipython3",
   "version": "3.10.13"
  },
  "papermill": {
   "default_parameters": {},
   "duration": 70.678492,
   "end_time": "2024-04-06T00:57:52.429355",
   "environment_variables": {},
   "exception": null,
   "input_path": "__notebook__.ipynb",
   "output_path": "__notebook__.ipynb",
   "parameters": {},
   "start_time": "2024-04-06T00:56:41.750863",
   "version": "2.5.0"
  }
 },
 "nbformat": 4,
 "nbformat_minor": 5
}
